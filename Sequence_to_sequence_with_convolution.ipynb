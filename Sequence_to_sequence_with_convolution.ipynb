{
  "nbformat": 4,
  "nbformat_minor": 0,
  "metadata": {
    "colab": {
      "name": "Sequence to sequence with convolution.ipynb",
      "provenance": [],
      "authorship_tag": "ABX9TyPN6neACrgjtMjxBCjrsrCS",
      "include_colab_link": true
    },
    "kernelspec": {
      "name": "python3",
      "display_name": "Python 3"
    },
    "accelerator": "GPU"
  },
  "cells": [
    {
      "cell_type": "markdown",
      "metadata": {
        "id": "view-in-github",
        "colab_type": "text"
      },
      "source": [
        "<a href=\"https://colab.research.google.com/github/ishandahal/Sequence-Data-pytorch-/blob/main/Sequence_to_sequence_with_convolution.ipynb\" target=\"_parent\"><img src=\"https://colab.research.google.com/assets/colab-badge.svg\" alt=\"Open In Colab\"/></a>"
      ]
    },
    {
      "cell_type": "markdown",
      "metadata": {
        "id": "37OmHNf4ENmi"
      },
      "source": [
        "#### Preparing the data"
      ]
    },
    {
      "cell_type": "markdown",
      "metadata": {
        "id": "QZpzM6PnEhB7"
      },
      "source": [
        "Imports"
      ]
    },
    {
      "cell_type": "code",
      "metadata": {
        "id": "BlB9h8NzEikq"
      },
      "source": [
        "import torch\n",
        "import torch.nn as nn\n",
        "import torch.optim as optim\n",
        "import torch.nn.functional as F\n",
        "\n",
        "from torchtext.datasets import Multi30k\n",
        "from torchtext.data import Field, BucketIterator\n",
        "\n",
        "import matplotlib.pyplot as plt\n",
        "import matplotlib.ticker as ticker\n",
        "\n",
        "import spacy\n",
        "import numpy as np\n",
        "\n",
        "import random\n",
        "import math\n",
        "import time"
      ],
      "execution_count": 1,
      "outputs": []
    },
    {
      "cell_type": "code",
      "metadata": {
        "id": "CIgdfeXZEki9"
      },
      "source": [
        "SEED = 1234\n",
        "\n",
        "random.seed(SEED)\n",
        "np.random.seed(SEED)\n",
        "torch.manual_seed(SEED)\n",
        "torch.cuda.manual_seed(SEED)\n",
        "torch.backends.cudnn.deterministic = True"
      ],
      "execution_count": 2,
      "outputs": []
    },
    {
      "cell_type": "code",
      "metadata": {
        "id": "0UfI03yNEpTB"
      },
      "source": [
        "!python -m spacy download de"
      ],
      "execution_count": null,
      "outputs": []
    },
    {
      "cell_type": "code",
      "metadata": {
        "id": "9kbqJO_3Emiq"
      },
      "source": [
        "spacy_de = spacy.load('de')\n",
        "spacy_en = spacy.load('en')"
      ],
      "execution_count": 4,
      "outputs": []
    },
    {
      "cell_type": "code",
      "metadata": {
        "id": "mmQo1PjMEv79"
      },
      "source": [
        "def tokenize_de(text):\n",
        "    \"\"\"\n",
        "    Tokenizes German text from a string into a list of strings\n",
        "    \"\"\"\n",
        "    return [tok.text for tok in spacy_de.tokenizer(text)]\n",
        "\n",
        "def tokenize_en(text):\n",
        "    \"\"\"\n",
        "    Tokenizes English text from a string into a list of strings\n",
        "    \"\"\"\n",
        "    return [tok.text for tok in spacy_en.tokenizer(text)]"
      ],
      "execution_count": 5,
      "outputs": []
    },
    {
      "cell_type": "markdown",
      "metadata": {
        "id": "OrGfwkWGE2Je"
      },
      "source": [
        "Convolution expects batch dimension first"
      ]
    },
    {
      "cell_type": "code",
      "metadata": {
        "id": "GcX54hXZEzNt"
      },
      "source": [
        "SRC = Field(tokenize = tokenize_de, \n",
        "            init_token = '<sos>', \n",
        "            eos_token = '<eos>', \n",
        "            lower = True, \n",
        "            batch_first = True)\n",
        "\n",
        "TRG = Field(tokenize = tokenize_en, \n",
        "            init_token = '<sos>', \n",
        "            eos_token = '<eos>', \n",
        "            lower = True, \n",
        "            batch_first = True)"
      ],
      "execution_count": 6,
      "outputs": []
    },
    {
      "cell_type": "code",
      "metadata": {
        "colab": {
          "base_uri": "https://localhost:8080/"
        },
        "id": "zEJY1khXE_dc",
        "outputId": "84175515-309b-4a22-b734-66c740045400"
      },
      "source": [
        "train_data, valid_data, test_data = Multi30k.splits(exts=('.de', '.en'), \n",
        "                                                    fields=(SRC, TRG))"
      ],
      "execution_count": 7,
      "outputs": [
        {
          "output_type": "stream",
          "text": [
            "downloading training.tar.gz\n"
          ],
          "name": "stdout"
        },
        {
          "output_type": "stream",
          "text": [
            "training.tar.gz: 100%|██████████| 1.21M/1.21M [00:01<00:00, 907kB/s]\n"
          ],
          "name": "stderr"
        },
        {
          "output_type": "stream",
          "text": [
            "downloading validation.tar.gz\n"
          ],
          "name": "stdout"
        },
        {
          "output_type": "stream",
          "text": [
            "validation.tar.gz: 100%|██████████| 46.3k/46.3k [00:00<00:00, 276kB/s]\n"
          ],
          "name": "stderr"
        },
        {
          "output_type": "stream",
          "text": [
            "downloading mmt_task1_test2016.tar.gz\n"
          ],
          "name": "stdout"
        },
        {
          "output_type": "stream",
          "text": [
            "mmt_task1_test2016.tar.gz: 100%|██████████| 66.2k/66.2k [00:00<00:00, 265kB/s]\n"
          ],
          "name": "stderr"
        }
      ]
    },
    {
      "cell_type": "code",
      "metadata": {
        "id": "xoXxwsY_E9Af"
      },
      "source": [
        "SRC.build_vocab(train_data, min_freq = 2)\n",
        "TRG.build_vocab(train_data, min_freq = 2)"
      ],
      "execution_count": 8,
      "outputs": []
    },
    {
      "cell_type": "code",
      "metadata": {
        "id": "scFUv8rYFEpo"
      },
      "source": [
        "device = torch.device('cuda' if torch.cuda.is_available() else 'cpu')"
      ],
      "execution_count": 9,
      "outputs": []
    },
    {
      "cell_type": "code",
      "metadata": {
        "id": "mGZX-ELbFGTA"
      },
      "source": [
        "BATCH_SIZE = 128\n",
        "\n",
        "train_iterator, valid_iterator, test_iterator = BucketIterator.splits(\n",
        "    (train_data, valid_data, test_data), \n",
        "     batch_size = BATCH_SIZE,\n",
        "     device = device)"
      ],
      "execution_count": 10,
      "outputs": []
    },
    {
      "cell_type": "markdown",
      "metadata": {
        "id": "h8CIi-pUFIfw"
      },
      "source": [
        "Building the model"
      ]
    },
    {
      "cell_type": "code",
      "metadata": {
        "id": "xhazWJLPFKJW"
      },
      "source": [
        "class Encoder(nn.Module):\n",
        "    def __init__(self, input_dim, emb_dim, hid_dim, n_layers, kernel_size, dropout, device, max_length=100):\n",
        "        super(Encoder, self).__init__()\n",
        "\n",
        "        assert kernel_size % 2 == 1, 'Kernel size must be odd!'\n",
        "\n",
        "        self.device = device\n",
        "\n",
        "        self.scale = torch.sqrt(torch.FloatTensor([0.5])).to(device) # scale parameter is used to reduce variance of the model\n",
        "\n",
        "        self.tok_embedding = nn.Embedding(input_dim, emb_dim)\n",
        "        self.pos_embedding = nn.Embedding(max_length, emb_dim)\n",
        "\n",
        "        self.emb2hid = nn.Linear(emb_dim, hid_dim)\n",
        "        self.hid2emb = nn.Linear(hid_dim, emb_dim)\n",
        "\n",
        "        self.convs = nn.ModuleList([\n",
        "                                    nn.Conv1d(in_channels=hid_dim,\n",
        "                                              out_channels=2*hid_dim,\n",
        "                                              kernel_size=kernel_size,\n",
        "                                              padding=(kernel_size - 1) // 2)\n",
        "                                    for _ in range(n_layers)])\n",
        "        \n",
        "        self.dropout = nn.Dropout(dropout)\n",
        "\n",
        "    def forward(self, src):\n",
        "\n",
        "        # src : [batch size, src len]\n",
        "\n",
        "        batch_size = src.shape[0]\n",
        "        src_len = src.shape[1]\n",
        "\n",
        "        # create position tensor\n",
        "        pos = torch.arange(0, src_len).unsqueeze(0).repeat(batch_size, 1).to(self.device)\n",
        "\n",
        "        # pos : [0, 1, 2, ..., src_len - 1]\n",
        "\n",
        "        # pos : [batch size, src len]\n",
        "\n",
        "        # embeded tokens and positions \n",
        "        tok_embedded = self.tok_embedding(src)\n",
        "        pos_embedded = self.pos_embedding(pos)\n",
        "\n",
        "        # tok_embedded = pos_embedded = [batch size, src len, emb dim]\n",
        "\n",
        "        # combine embeddings by elementwise sum\n",
        "        embedded = self.dropout(tok_embedded + pos_embedded)\n",
        "\n",
        "        # embedded : [batch size, src len, emb dim]\n",
        "\n",
        "        # passed embedded through linear layer to from emb_dim to hid dim\n",
        "        conv_input = self.emb2hid(embedded)\n",
        "\n",
        "        # conv_input : [batch size, src len, hid dim]\n",
        "\n",
        "        # permute for convolutional layer\n",
        "        conv_input = conv_input.permute(0, 2, 1)\n",
        "\n",
        "        # conv_input : [batch size, hid dim, src len]\n",
        "\n",
        "        # begin covolution\n",
        "\n",
        "        for i, conv in enumerate(self.convs):\n",
        "\n",
        "            # pass through comvolutional layer\n",
        "            conved = conv(self.dropout(conv_input))\n",
        "\n",
        "            # conved : [batch size, 2 * hid dim, src len]\n",
        "\n",
        "            # passed through GLU activation func\n",
        "            conved = F.glu(conved, dim=1)\n",
        "\n",
        "            # conved = [batch size, hid dim, src len]\n",
        "\n",
        "            # apply residual connections \n",
        "            conved = (conved + conv_input) * self.scale\n",
        "\n",
        "            # conved : [batch size, hid dim, src len]\n",
        "\n",
        "            # set conv_input to conved for next loop iteration \n",
        "            conv_input = conved\n",
        "\n",
        "        # end of convolution block\n",
        "\n",
        "        # permute and convert back to emb dim\n",
        "        conved = self.hid2emb(conved.permute(0, 2, 1))\n",
        "\n",
        "        # conved : [batch size, src len, emb dim]\n",
        "\n",
        "        # elementwise sum output (conved) and input (embedded) to be used for attention \n",
        "\n",
        "        combined = (conved + embedded) * self.scale\n",
        "\n",
        "        # combined : [batch size, src len, emb dim]\n",
        "\n",
        "        return conved, combined"
      ],
      "execution_count": 11,
      "outputs": []
    },
    {
      "cell_type": "markdown",
      "metadata": {
        "id": "5Cc_mBZ5O8nE"
      },
      "source": [
        "#### Decoder Implementation"
      ]
    },
    {
      "cell_type": "code",
      "metadata": {
        "id": "csuyYhm3Pkfx"
      },
      "source": [
        "# class Decoder(nn.Module):\n",
        "#     def __init__(self, output_dim, emb_dim, hid_dim, n_layers, kernel_size, dropout, trg_pad_idx, device, max_length=100):\n",
        "#         super(Decoder, self).__init__()\n",
        "\n",
        "#         self.kernel_size = kernel_size\n",
        "#         self.trg_pad_idx = trg_pad_idx\n",
        "#         self.device = device\n",
        "\n",
        "#         self.scale = torch.sqrt(torch.FloatTensor([0.5])).to(device)\n",
        "\n",
        "#         self.tok_embedding = nn.Embedding(output_dim, emb_dim)\n",
        "#         self.pos_embedding = nn.Embedding(max_length, emb_dim)\n",
        "\n",
        "#         self.emb2hid = nn.Linear(emb_dim, hid_dim)\n",
        "#         self.hid2emb = nn.Linear(hid_dim, emb_dim)\n",
        "\n",
        "#         self.attn_hid2emb = nn.Linear(hid_dim, emb_dim)\n",
        "#         self.attn_emb2hid = nn.Linear(emb_dim, hid_dim)\n",
        "\n",
        "#         self.fc_out = nn.Linear(emb_dim, output_dim)\n",
        "\n",
        "#         self.convs = nn.ModuleList([nn.Conv1d(in_channels=hid_dim,\n",
        "#                                               out_channels=2*hid_dim,\n",
        "#                                               kernel_size=kernel_size,)\n",
        "#                                     for _ in range(n_layers)])\n",
        "        \n",
        "#         self.dropout = nn.Dropout(dropout)\n",
        "\n",
        "#     def calculate_attention(self, embedded, conved, encoder_conved, encoder_combined):\n",
        "\n",
        "#         # embedded : [batch size, trg len, emb dim]\n",
        "#         # conved : [batch size, hid dim, trg len]\n",
        "#         # encoder_conved = encoder_combines : [batch size, src len, emb dim]\n",
        "\n",
        "#         # permute and convert back to emb dim\n",
        "#         conved_emb = self.attn_hid2emb(conved.permute(0, 2, 1))\n",
        "\n",
        "#         # conved_emb : [batch size, trg len, emb dim]\n",
        "\n",
        "#         combined = (conved_emb + embedded) * self.scale\n",
        "\n",
        "#         # combined : [batch size, trg len, emb dim]\n",
        "\n",
        "#         energy = torch.matmul(combined, encoder_conved.permute(0, 2, 1))\n",
        "\n",
        "#         # energy : [batch size, trg len, src len]\n",
        "\n",
        "#         attention = F.softmax(energy, dim=2)\n",
        "\n",
        "#         # attention : [batch size, trg len, src len]\n",
        "\n",
        "#         attended_encoding = torch.matmul(attention, encoder_combined)\n",
        "\n",
        "#         # attended_encoding : [batch size, trg len, emb dim]\n",
        "\n",
        "#         # convert from emb dim -> hid dim\n",
        "#         attended_encoding = self.attn_emb2hid(attended_encoding)\n",
        "\n",
        "#         # attended_encoding : [batch size, trg len, hid dim]\n",
        "\n",
        "#         # apply residual connection\n",
        "#         attended_combined = (conved + attended_encoding.permute(0, 2, 1)) * self.scale\n",
        "\n",
        "#         # attended_combined : [batch size, hid dim, trg len]\n",
        "\n",
        "#         return attention, attended_combined\n",
        "    \n",
        "#     def forward(self, trg, encoder_conved, encoder_combined):\n",
        "\n",
        "#         # trg : [batch size, trg len]\n",
        "#         # encoder_conved = encoder_combined : [batch size, src len, emb dim]\n",
        "\n",
        "#         batch_size = trg.shape[0]\n",
        "#         trg_len = trg.shape[1]\n",
        "\n",
        "#         # create position tensor \n",
        "#         pos = torch.arange(0, trg_len).unsqueeze(0).repeat(batch_size, 1).to(self.device)\n",
        "\n",
        "#         # pos : [batch size, trg len]\n",
        "\n",
        "#         # embed tokens and positions\n",
        "#         tok_embedded = self.tok_embedding(trg)\n",
        "#         pos_embedded = self.pos_embedding(pos)\n",
        "\n",
        "#         # tok_embedded : [batch size, trg len, emb dim]\n",
        "#         # pos_embedded : [batch size, trg len, emb dim]\n",
        "\n",
        "#         # combines embeddings by elementwise sum\n",
        "#         embedded = self.dropout(tok_embedded + pos_embedded)\n",
        "\n",
        "#         # embedded : [batch size, trg len, emb dim]\n",
        "\n",
        "#         # pass embedded through linear layer to go through emb dim -> hid dim\n",
        "#         conv_input = self.emb2hid(embedded)\n",
        "\n",
        "#         # conv input : [batch size, trg len, hid dim]\n",
        "\n",
        "#         # permute for convolutional layer \n",
        "#         conv_input = conv_input.permute(0, 2, 1)\n",
        "\n",
        "#         # conv_input : [batch size, hid dim, trg len]\n",
        "\n",
        "#         batch_size = conv_input.shape[0]\n",
        "#         hid_dim = conv_input.shape[1]\n",
        "\n",
        "#         for i, conv in enumerate(self.convs):\n",
        "\n",
        "#             # apply dropout \n",
        "#             conv_input = self.dropout(conv_input)\n",
        "\n",
        "#             # need to pad so decoder can't look ahead\n",
        "#             padding = torch.zeros(batch_size,\n",
        "#                                   hid_dim,\n",
        "#                                   self.kernel_size - 1).fill_(self.trg_pad_idx).to(self.device)\n",
        "\n",
        "#             padded_conv_input = torch.cat((padding, conv_input), dim=2)\n",
        "\n",
        "#             # padded_conv_input : [batch size, hid dim, trg len + kernel size -1]\n",
        "\n",
        "#             # pass through convolutional layer \n",
        "#             conved = conv(padded_conv_input)\n",
        "\n",
        "#             # conved : [batch size, 2 * hid dim, trg len]\n",
        "\n",
        "#             # pass through GLU activation \n",
        "#             conved = F.glu(conved, dim=1)\n",
        "\n",
        "#             # conved : [batch size, hid dim, trg len]\n",
        "\n",
        "#             # calculate attention \n",
        "#             attention, conved = self.calculate_attention(embedded,\n",
        "#                                                          conved,\n",
        "#                                                          encoder_conved,\n",
        "#                                                          encoder_combined)\n",
        "\n",
        "#             # attention : [batch size, trg len, src len]\n",
        "\n",
        "#             # apply residual connection \n",
        "#             conved = (conved + conv_input) * self.scale\n",
        "\n",
        "#             # conved : [ batch size, hid dim, trg len]\n",
        "\n",
        "#             # set conv_input to conved for next loop iteration\n",
        "#             conv_input = conved\n",
        "\n",
        "#         conved = self.hid2emb(conved.permute(0, 2, 1))\n",
        "\n",
        "#         # conved : [batch size, trg len, emb dim]\n",
        "\n",
        "#         output = self.fc_out(self.dropout(conved))\n",
        "\n",
        "#         # output : [batch size, trg len, output dim]\n",
        "#         return output, attention"
      ],
      "execution_count": 26,
      "outputs": []
    },
    {
      "cell_type": "code",
      "metadata": {
        "id": "tZB-5eMawK_f"
      },
      "source": [
        "class Decoder(nn.Module):\n",
        "    def __init__(self, \n",
        "                 output_dim, \n",
        "                 emb_dim, \n",
        "                 hid_dim, \n",
        "                 n_layers, \n",
        "                 kernel_size, \n",
        "                 dropout, \n",
        "                 trg_pad_idx, \n",
        "                 device,\n",
        "                 max_length = 100):\n",
        "        super().__init__()\n",
        "        \n",
        "        self.kernel_size = kernel_size\n",
        "        self.trg_pad_idx = trg_pad_idx\n",
        "        self.device = device\n",
        "        \n",
        "        self.scale = torch.sqrt(torch.FloatTensor([0.5])).to(device)\n",
        "        \n",
        "        self.tok_embedding = nn.Embedding(output_dim, emb_dim)\n",
        "        self.pos_embedding = nn.Embedding(max_length, emb_dim)\n",
        "        \n",
        "        self.emb2hid = nn.Linear(emb_dim, hid_dim)\n",
        "        self.hid2emb = nn.Linear(hid_dim, emb_dim)\n",
        "        \n",
        "        self.attn_hid2emb = nn.Linear(hid_dim, emb_dim)\n",
        "        self.attn_emb2hid = nn.Linear(emb_dim, hid_dim)\n",
        "        \n",
        "        self.fc_out = nn.Linear(emb_dim, output_dim)\n",
        "        \n",
        "        self.convs = nn.ModuleList([nn.Conv1d(in_channels = hid_dim, \n",
        "                                              out_channels = 2 * hid_dim, \n",
        "                                              kernel_size = kernel_size)\n",
        "                                    for _ in range(n_layers)])\n",
        "        \n",
        "        self.dropout = nn.Dropout(dropout)\n",
        "      \n",
        "    def calculate_attention(self, embedded, conved, encoder_conved, encoder_combined):\n",
        "        \n",
        "        #embedded = [batch size, trg len, emb dim]\n",
        "        #conved = [batch size, hid dim, trg len]\n",
        "        #encoder_conved = encoder_combined = [batch size, src len, emb dim]\n",
        "        \n",
        "        #permute and convert back to emb dim\n",
        "        conved_emb = self.attn_hid2emb(conved.permute(0, 2, 1))\n",
        "        \n",
        "        #conved_emb = [batch size, trg len, emb dim]\n",
        "        \n",
        "        combined = (conved_emb + embedded) * self.scale\n",
        "        \n",
        "        #combined = [batch size, trg len, emb dim]\n",
        "                \n",
        "        energy = torch.matmul(combined, encoder_conved.permute(0, 2, 1))\n",
        "        \n",
        "        #energy = [batch size, trg len, src len]\n",
        "        \n",
        "        attention = F.softmax(energy, dim=2)\n",
        "        \n",
        "        #attention = [batch size, trg len, src len]\n",
        "            \n",
        "        attended_encoding = torch.matmul(attention, encoder_combined)\n",
        "        \n",
        "        #attended_encoding = [batch size, trg len, emd dim]\n",
        "        \n",
        "        #convert from emb dim -> hid dim\n",
        "        attended_encoding = self.attn_emb2hid(attended_encoding)\n",
        "        \n",
        "        #attended_encoding = [batch size, trg len, hid dim]\n",
        "        \n",
        "        #apply residual connection\n",
        "        attended_combined = (conved + attended_encoding.permute(0, 2, 1)) * self.scale\n",
        "        \n",
        "        #attended_combined = [batch size, hid dim, trg len]\n",
        "        \n",
        "        return attention, attended_combined\n",
        "        \n",
        "    def forward(self, trg, encoder_conved, encoder_combined):\n",
        "        \n",
        "        #trg = [batch size, trg len]\n",
        "        #encoder_conved = encoder_combined = [batch size, src len, emb dim]\n",
        "                \n",
        "        batch_size = trg.shape[0]\n",
        "        trg_len = trg.shape[1]\n",
        "            \n",
        "        #create position tensor\n",
        "        pos = torch.arange(0, trg_len).unsqueeze(0).repeat(batch_size, 1).to(self.device)\n",
        "        \n",
        "        #pos = [batch size, trg len]\n",
        "        \n",
        "        #embed tokens and positions\n",
        "        tok_embedded = self.tok_embedding(trg)\n",
        "        pos_embedded = self.pos_embedding(pos)\n",
        "        \n",
        "        #tok_embedded = [batch size, trg len, emb dim]\n",
        "        #pos_embedded = [batch size, trg len, emb dim]\n",
        "        \n",
        "        #combine embeddings by elementwise summing\n",
        "        embedded = self.dropout(tok_embedded + pos_embedded)\n",
        "        \n",
        "        #embedded = [batch size, trg len, emb dim]\n",
        "        \n",
        "        #pass embedded through linear layer to go through emb dim -> hid dim\n",
        "        conv_input = self.emb2hid(embedded)\n",
        "        \n",
        "        #conv_input = [batch size, trg len, hid dim]\n",
        "        \n",
        "        #permute for convolutional layer\n",
        "        conv_input = conv_input.permute(0, 2, 1) \n",
        "        \n",
        "        #conv_input = [batch size, hid dim, trg len]\n",
        "        \n",
        "        batch_size = conv_input.shape[0]\n",
        "        hid_dim = conv_input.shape[1]\n",
        "        \n",
        "        for i, conv in enumerate(self.convs):\n",
        "        \n",
        "            #apply dropout\n",
        "            conv_input = self.dropout(conv_input)\n",
        "        \n",
        "            #need to pad so decoder can't \"cheat\"\n",
        "            padding = torch.zeros(batch_size, \n",
        "                                  hid_dim, \n",
        "                                  self.kernel_size - 1).fill_(self.trg_pad_idx).to(self.device)\n",
        "                \n",
        "            padded_conv_input = torch.cat((padding, conv_input), dim = 2)\n",
        "        \n",
        "            #padded_conv_input = [batch size, hid dim, trg len + kernel size - 1]\n",
        "        \n",
        "            #pass through convolutional layer\n",
        "            conved = conv(padded_conv_input)\n",
        "\n",
        "            #conved = [batch size, 2 * hid dim, trg len]\n",
        "            \n",
        "            #pass through GLU activation function\n",
        "            conved = F.glu(conved, dim = 1)\n",
        "\n",
        "            #conved = [batch size, hid dim, trg len]\n",
        "            \n",
        "            #calculate attention\n",
        "            attention, conved = self.calculate_attention(embedded, \n",
        "                                                         conved, \n",
        "                                                         encoder_conved, \n",
        "                                                         encoder_combined)\n",
        "            \n",
        "            #attention = [batch size, trg len, src len]\n",
        "            \n",
        "            #apply residual connection\n",
        "            conved = (conved + conv_input) * self.scale\n",
        "            \n",
        "            #conved = [batch size, hid dim, trg len]\n",
        "            \n",
        "            #set conv_input to conved for next loop iteration\n",
        "            conv_input = conved\n",
        "            \n",
        "        conved = self.hid2emb(conved.permute(0, 2, 1))\n",
        "         \n",
        "        #conved = [batch size, trg len, emb dim]\n",
        "            \n",
        "        output = self.fc_out(self.dropout(conved))\n",
        "        \n",
        "        #output = [batch size, trg len, output dim]\n",
        "            \n",
        "        return output, attention"
      ],
      "execution_count": 30,
      "outputs": []
    },
    {
      "cell_type": "markdown",
      "metadata": {
        "id": "RaITScf0Ppf-"
      },
      "source": [
        "SeqtoSeq"
      ]
    },
    {
      "cell_type": "code",
      "metadata": {
        "id": "FlBprfvwg6rG"
      },
      "source": [
        "class Seq2Seq(nn.Module):\n",
        "    def __init__(self, encoder, decoder):\n",
        "        super(Seq2Seq, self).__init__()\n",
        "\n",
        "        self.encoder = encoder\n",
        "        self.decoder = decoder\n",
        "\n",
        "    def forward(self, src, trg):\n",
        "        \n",
        "        # src : [batch size, src len]\n",
        "        # trg : [batch size, trg len - 1] (<eos> token sliced off the end)\n",
        "\n",
        "        # calculate z^u (encoder_conved) and (z^u + e) (encoder_conbined)\n",
        "        # encoder_conved is output from final encoder conv.block\n",
        "        # encoder_combined is encoder_conved plus (elementwise) src embedding plus\n",
        "        # positional embeddings\n",
        "        encoder_conved, encoder_combined = self.encoder(src)\n",
        "\n",
        "        # encoder_conved : [batch size, src len, emb dim]\n",
        "        # encoder_combined : [batch size, src len, emb dim]\n",
        "\n",
        "        # calculate predictions of next words \n",
        "        # output is a batch of predictions for each word in the trg sentence\n",
        "        # attention a batch of attention scores accross the src sentence for \n",
        "        # each word in the trg sentence\n",
        "        output, attention = self.decoder(trg, encoder_conved, encoder_combined)\n",
        "\n",
        "        # output : [batch size, trg len - 1, output dim]\n",
        "        # attention : [batch size, trg len - 1, src len]\n",
        "\n",
        "        return output, attention"
      ],
      "execution_count": 13,
      "outputs": []
    },
    {
      "cell_type": "markdown",
      "metadata": {
        "id": "iTME6iUFob33"
      },
      "source": [
        "Training the Seq2Seq Model"
      ]
    },
    {
      "cell_type": "code",
      "metadata": {
        "id": "BTMkwSqxokrU"
      },
      "source": [
        "INPUT_DIM = len(SRC.vocab)\n",
        "OUTPUT_DIM = len(TRG.vocab)\n",
        "EMB_DIM = 256\n",
        "HID_DIM = 512 # each conv. layer has 2 * hid_dim filters\n",
        "ENC_LAYERS = 10 # number of conv. blocks in encoder\n",
        "DEC_LAYERS = 10 # number of conv. blocks in decoder\n",
        "ENC_KERNEL_SIZE = 3 # must be odd!\n",
        "DEC_KERNEL_SIZE = 3 # can be even or odd\n",
        "ENC_DROPOUT = 0.25\n",
        "DEC_DROPOUT = 0.25\n",
        "TRG_PAD_IDX = TRG.vocab.stoi[TRG.pad_token]\n",
        "    \n",
        "enc = Encoder(INPUT_DIM, EMB_DIM, HID_DIM, ENC_LAYERS, ENC_KERNEL_SIZE, ENC_DROPOUT, device)\n",
        "dec = Decoder(OUTPUT_DIM, EMB_DIM, HID_DIM, DEC_LAYERS, DEC_KERNEL_SIZE, DEC_DROPOUT, TRG_PAD_IDX, device)\n",
        "\n",
        "model = Seq2Seq(enc, dec).to(device)"
      ],
      "execution_count": 31,
      "outputs": []
    },
    {
      "cell_type": "code",
      "metadata": {
        "colab": {
          "base_uri": "https://localhost:8080/"
        },
        "id": "dQ8uTer8op9O",
        "outputId": "3dd97f1f-f9c4-4346-aa6f-92624c9454dc"
      },
      "source": [
        "def count_parameters(model):\n",
        "    return sum(p.numel() for p in model.parameters() if p.requires_grad)\n",
        "\n",
        "print(f'The model has {count_parameters(model):,} trainable parameters')"
      ],
      "execution_count": 32,
      "outputs": [
        {
          "output_type": "stream",
          "text": [
            "The model has 37,351,685 trainable parameters\n"
          ],
          "name": "stdout"
        }
      ]
    },
    {
      "cell_type": "code",
      "metadata": {
        "id": "0V2JOlgPoskf"
      },
      "source": [
        "optimizer = optim.Adam(model.parameters())"
      ],
      "execution_count": 33,
      "outputs": []
    },
    {
      "cell_type": "code",
      "metadata": {
        "id": "WWtgbX85oycN"
      },
      "source": [
        "criterion = nn.CrossEntropyLoss(ignore_index=TRG_PAD_IDX)"
      ],
      "execution_count": 34,
      "outputs": []
    },
    {
      "cell_type": "code",
      "metadata": {
        "id": "mLYn5DNto-P3"
      },
      "source": [
        "def train(model, iterator, optimizer, criterion, clip):\n",
        "    \n",
        "    model.train()\n",
        "    \n",
        "    epoch_loss = 0\n",
        "    \n",
        "    for i, batch in enumerate(iterator):\n",
        "        \n",
        "        src = batch.src\n",
        "        trg = batch.trg\n",
        "        \n",
        "        optimizer.zero_grad()\n",
        "        \n",
        "        output, _ = model(src, trg[:,:-1])\n",
        "        \n",
        "        #output = [batch size, trg len - 1, output dim]\n",
        "        #trg = [batch size, trg len]\n",
        "        \n",
        "        output_dim = output.shape[-1]\n",
        "        \n",
        "        output = output.contiguous().view(-1, output_dim)\n",
        "        trg = trg[:,1:].contiguous().view(-1)\n",
        "        \n",
        "        #output = [batch size * trg len - 1, output dim]\n",
        "        #trg = [batch size * trg len - 1]\n",
        "        \n",
        "        loss = criterion(output, trg)\n",
        "        \n",
        "        loss.backward()\n",
        "        \n",
        "        torch.nn.utils.clip_grad_norm_(model.parameters(), clip)\n",
        "        \n",
        "        optimizer.step()\n",
        "        \n",
        "        epoch_loss += loss.item()\n",
        "        \n",
        "    return epoch_loss / len(iterator)"
      ],
      "execution_count": 35,
      "outputs": []
    },
    {
      "cell_type": "code",
      "metadata": {
        "id": "6wPbGtVIpUKa"
      },
      "source": [
        "def evaluate(model, iterator, criterion):\n",
        "    \n",
        "    model.eval()\n",
        "    \n",
        "    epoch_loss = 0\n",
        "    \n",
        "    with torch.no_grad():\n",
        "    \n",
        "        for i, batch in enumerate(iterator):\n",
        "\n",
        "            src = batch.src\n",
        "            trg = batch.trg\n",
        "\n",
        "            output, _ = model(src, trg[:,:-1])\n",
        "        \n",
        "            #output = [batch size, trg len - 1, output dim]\n",
        "            #trg = [batch size, trg len]\n",
        "\n",
        "            output_dim = output.shape[-1]\n",
        "            \n",
        "            output = output.contiguous().view(-1, output_dim)\n",
        "            trg = trg[:,1:].contiguous().view(-1)\n",
        "\n",
        "            #output = [batch size * trg len - 1, output dim]\n",
        "            #trg = [batch size * trg len - 1]\n",
        "            \n",
        "            loss = criterion(output, trg)\n",
        "\n",
        "            epoch_loss += loss.item()\n",
        "        \n",
        "    return epoch_loss / len(iterator)\n"
      ],
      "execution_count": 36,
      "outputs": []
    },
    {
      "cell_type": "code",
      "metadata": {
        "id": "oDg8UhWipZsi"
      },
      "source": [
        "def epoch_time(start_time, end_time):\n",
        "    elapsed_time = end_time - start_time\n",
        "    elapsed_mins = int(elapsed_time / 60)\n",
        "    elapsed_secs = int(elapsed_time - (elapsed_mins * 60))\n",
        "    return elapsed_mins, elapsed_secs"
      ],
      "execution_count": 37,
      "outputs": []
    },
    {
      "cell_type": "code",
      "metadata": {
        "colab": {
          "base_uri": "https://localhost:8080/"
        },
        "id": "K2r20gm9puuz",
        "outputId": "ccb3dc84-7891-4020-adeb-ad752530ad23"
      },
      "source": [
        "N_EPOCHS = 10\n",
        "CLIP = 0.1\n",
        "\n",
        "best_valid_loss = float('inf')\n",
        "\n",
        "for epoch in range(N_EPOCHS):\n",
        "    \n",
        "    start_time = time.time()\n",
        "    \n",
        "    train_loss = train(model, train_iterator, optimizer, criterion, CLIP)\n",
        "    valid_loss = evaluate(model, valid_iterator, criterion)\n",
        "    \n",
        "    end_time = time.time()\n",
        "    \n",
        "    epoch_mins, epoch_secs = epoch_time(start_time, end_time)\n",
        "    \n",
        "    if valid_loss < best_valid_loss:\n",
        "        best_valid_loss = valid_loss\n",
        "        torch.save(model.state_dict(), 'tut5-model.pt')\n",
        "    \n",
        "    print(f'Epoch: {epoch+1:02} | Time: {epoch_mins}m {epoch_secs}s')\n",
        "    print(f'\\tTrain Loss: {train_loss:.3f} | Train PPL: {math.exp(train_loss):7.3f}')\n",
        "    print(f'\\t Val. Loss: {valid_loss:.3f} |  Val. PPL: {math.exp(valid_loss):7.3f}')"
      ],
      "execution_count": 38,
      "outputs": [
        {
          "output_type": "stream",
          "text": [
            "Epoch: 01 | Time: 1m 3s\n",
            "\tTrain Loss: 4.300 | Train PPL:  73.671\n",
            "\t Val. Loss: 3.158 |  Val. PPL:  23.513\n",
            "Epoch: 02 | Time: 1m 2s\n",
            "\tTrain Loss: 3.091 | Train PPL:  21.989\n",
            "\t Val. Loss: 2.451 |  Val. PPL:  11.595\n",
            "Epoch: 03 | Time: 1m 3s\n",
            "\tTrain Loss: 2.638 | Train PPL:  13.989\n",
            "\t Val. Loss: 2.165 |  Val. PPL:   8.719\n",
            "Epoch: 04 | Time: 1m 3s\n",
            "\tTrain Loss: 2.398 | Train PPL:  11.000\n",
            "\t Val. Loss: 2.025 |  Val. PPL:   7.579\n",
            "Epoch: 05 | Time: 1m 3s\n",
            "\tTrain Loss: 2.238 | Train PPL:   9.378\n",
            "\t Val. Loss: 1.957 |  Val. PPL:   7.079\n",
            "Epoch: 06 | Time: 1m 3s\n",
            "\tTrain Loss: 2.127 | Train PPL:   8.392\n",
            "\t Val. Loss: 1.882 |  Val. PPL:   6.569\n",
            "Epoch: 07 | Time: 1m 3s\n",
            "\tTrain Loss: 2.033 | Train PPL:   7.635\n",
            "\t Val. Loss: 1.833 |  Val. PPL:   6.255\n",
            "Epoch: 08 | Time: 1m 3s\n",
            "\tTrain Loss: 1.956 | Train PPL:   7.071\n",
            "\t Val. Loss: 1.800 |  Val. PPL:   6.047\n",
            "Epoch: 09 | Time: 1m 3s\n",
            "\tTrain Loss: 1.893 | Train PPL:   6.639\n",
            "\t Val. Loss: 1.773 |  Val. PPL:   5.889\n",
            "Epoch: 10 | Time: 1m 3s\n",
            "\tTrain Loss: 1.838 | Train PPL:   6.282\n",
            "\t Val. Loss: 1.759 |  Val. PPL:   5.804\n"
          ],
          "name": "stdout"
        }
      ]
    },
    {
      "cell_type": "code",
      "metadata": {
        "colab": {
          "base_uri": "https://localhost:8080/"
        },
        "id": "RlDTyN6Fx_v7",
        "outputId": "aa745411-c746-4086-d829-401972959629"
      },
      "source": [
        "model.load_state_dict(torch.load('tut5-model.pt'))\n",
        "\n",
        "test_loss = evaluate(model, test_iterator, criterion)\n",
        "\n",
        "print(f'| Test Loss: {test_loss:.3f} | Test PPL: {math.exp(test_loss):7.3f} |')"
      ],
      "execution_count": 39,
      "outputs": [
        {
          "output_type": "stream",
          "text": [
            "| Test Loss: 1.826 | Test PPL:   6.206 |\n"
          ],
          "name": "stdout"
        }
      ]
    },
    {
      "cell_type": "markdown",
      "metadata": {
        "id": "ukqBA7YeyCBl"
      },
      "source": [
        "Inference"
      ]
    },
    {
      "cell_type": "code",
      "metadata": {
        "id": "tdJOrk2004xL"
      },
      "source": [
        "def translate_sentence(sentence, src_field, trg_field, model, device, max_len=50):\n",
        "\n",
        "    model.eval()\n",
        "\n",
        "    if isinstance(sentence, str):\n",
        "        nlp = spacy.load('de')\n",
        "        tokens = [token.text.lower() for token in nlp(sentence)]\n",
        "    else:\n",
        "        tokens = [token.lower() for token in sentence]\n",
        "\n",
        "    tokens = [src_field.init_token] + tokens + [src_field.eos_token]\n",
        "\n",
        "    src_indexes = [src_field.vocab.stoi[token] for token in tokens]\n",
        "\n",
        "    src_tensor = torch.LongTensor(src_indexes).unsqueeze(0).to(device)\n",
        "\n",
        "    with torch.no_grad():\n",
        "        encoder_conved, encoder_combined = model.encoder(src_tensor)\n",
        "\n",
        "    trg_indexes = [trg_field.vocab.stoi[trg_field.init_token]]\n",
        "\n",
        "    for i in range(max_len):\n",
        "\n",
        "        trg_tensor = torch.LongTensor(trg_indexes).unsqueeze(0).to(device)\n",
        "\n",
        "        with torch.no_grad():\n",
        "            output, attention = model.decoder(trg_tensor, encoder_conved, encoder_combined)\n",
        "\n",
        "        pred_token = output.argmax(2)[:,-1].item()\n",
        "\n",
        "        trg_indexes.append(pred_token)\n",
        "\n",
        "        if pred_token == trg_field.vocab.stoi[trg_field.eos_token]:\n",
        "            break\n",
        "    \n",
        "    trg_tokens = [trg_field.vocab.itos[i] for i in trg_indexes]\n",
        "\n",
        "    return trg_tokens[1:], attention"
      ],
      "execution_count": 50,
      "outputs": []
    },
    {
      "cell_type": "code",
      "metadata": {
        "id": "ov_293f_3M8v"
      },
      "source": [
        "def display_attention(sentence, translation, attention):\n",
        "    \n",
        "    fig = plt.figure(figsize=(10,10))\n",
        "    ax = fig.add_subplot(111)\n",
        "        \n",
        "    attention = attention.squeeze(0).cpu().detach().numpy()\n",
        "    \n",
        "    cax = ax.matshow(attention, cmap='bone')\n",
        "   \n",
        "    ax.tick_params(labelsize=15)\n",
        "    ax.set_xticklabels(['']+['<sos>']+[t.lower() for t in sentence]+['<eos>'], \n",
        "                       rotation=45)\n",
        "    ax.set_yticklabels(['']+translation)\n",
        "\n",
        "    ax.xaxis.set_major_locator(ticker.MultipleLocator(1))\n",
        "    ax.yaxis.set_major_locator(ticker.MultipleLocator(1))\n",
        "\n",
        "    plt.show()\n",
        "    plt.close()"
      ],
      "execution_count": 41,
      "outputs": []
    },
    {
      "cell_type": "code",
      "metadata": {
        "colab": {
          "base_uri": "https://localhost:8080/"
        },
        "id": "1raQ60W_3S9Y",
        "outputId": "b8a72484-2a3f-4054-94c0-bd150478eb49"
      },
      "source": [
        "example_idx = 4\n",
        "\n",
        "src = vars(train_data.examples[example_idx])['src']\n",
        "trg = vars(train_data.examples[example_idx])['trg']\n",
        "\n",
        "print(f'src = {src}')\n",
        "print(f'trg = {trg}')"
      ],
      "execution_count": 52,
      "outputs": [
        {
          "output_type": "stream",
          "text": [
            "src = ['zwei', 'männer', 'stehen', 'am', 'herd', 'und', 'bereiten', 'essen', 'zu', '.']\n",
            "trg = ['two', 'men', 'are', 'at', 'the', 'stove', 'preparing', 'food', '.']\n"
          ],
          "name": "stdout"
        }
      ]
    },
    {
      "cell_type": "code",
      "metadata": {
        "colab": {
          "base_uri": "https://localhost:8080/"
        },
        "id": "Li8kWHJb3ac4",
        "outputId": "8d41233f-f45e-4b0d-aefb-5dd4ce446b9a"
      },
      "source": [
        "translation, attention = translate_sentence(src, SRC, TRG, model, device)\n",
        "\n",
        "print(f'predicted trg = {translation}')"
      ],
      "execution_count": 53,
      "outputs": [
        {
          "output_type": "stream",
          "text": [
            "predicted trg = ['two', 'men', 'are', 'standing', 'on', 'the', 'stove', 'preparing', 'food', '.', '<eos>']\n"
          ],
          "name": "stdout"
        }
      ]
    },
    {
      "cell_type": "code",
      "metadata": {
        "colab": {
          "base_uri": "https://localhost:8080/",
          "height": 608
        },
        "id": "lXWUyje33e0C",
        "outputId": "c4d0151e-f13b-4d8d-a30b-3dd991146207"
      },
      "source": [
        "display_attention(src, translation, attention)"
      ],
      "execution_count": 54,
      "outputs": [
        {
          "output_type": "display_data",
          "data": {
            "image/png": "[encoded data removed]",
            "text/plain": [
              "<Figure size 720x720 with 1 Axes>"
            ]
          },
          "metadata": {
            "tags": [],
            "needs_background": "light"
          }
        }
      ]
    },
    {
      "cell_type": "code",
      "metadata": {
        "colab": {
          "base_uri": "https://localhost:8080/"
        },
        "id": "v9cmfvRU5QQq",
        "outputId": "5d783d0b-0222-4054-876d-972846eb17fd"
      },
      "source": [
        "example_idx = 4\n",
        "\n",
        "src = vars(valid_data.examples[example_idx])['src']\n",
        "trg = vars(valid_data.examples[example_idx])['trg']\n",
        "\n",
        "print(f'src = {src}')\n",
        "print(f'trg = {trg}')"
      ],
      "execution_count": 57,
      "outputs": [
        {
          "output_type": "stream",
          "text": [
            "src = ['ein', 'mann', 'mit', 'beginnender', 'glatze', ',', 'der', 'eine', 'rote', 'rettungsweste', 'trägt', ',', 'sitzt', 'in', 'einem', 'kleinen', 'boot', '.']\n",
            "trg = ['a', 'balding', 'man', 'wearing', 'a', 'red', 'life', 'jacket', 'is', 'sitting', 'in', 'a', 'small', 'boat', '.']\n"
          ],
          "name": "stdout"
        }
      ]
    },
    {
      "cell_type": "code",
      "metadata": {
        "colab": {
          "base_uri": "https://localhost:8080/"
        },
        "id": "xYEm1T_I5WO0",
        "outputId": "0dd3dcd3-39a3-4321-e03f-d8a2697af1a0"
      },
      "source": [
        "translation, attention = translate_sentence(src, SRC, TRG, model, device)\n",
        "\n",
        "print(f'predicted trg = {translation}')"
      ],
      "execution_count": 58,
      "outputs": [
        {
          "output_type": "stream",
          "text": [
            "predicted trg = ['a', 'man', 'with', 'a', 'mohawk', 'is', 'sitting', 'in', 'a', 'small', 'boat', 'sitting', 'in', 'a', 'small', 'boat', '.', '<eos>']\n"
          ],
          "name": "stdout"
        }
      ]
    },
    {
      "cell_type": "code",
      "metadata": {
        "colab": {
          "base_uri": "https://localhost:8080/",
          "height": 631
        },
        "id": "bKRoMcvf5fnE",
        "outputId": "8e09732b-3caa-4908-8684-774639511ac9"
      },
      "source": [
        "display_attention(src, translation, attention)"
      ],
      "execution_count": 59,
      "outputs": [
        {
          "output_type": "display_data",
          "data": {
            "image/png": "[encoded data removed]",
            "text/plain": [
              "<Figure size 720x720 with 1 Axes>"
            ]
          },
          "metadata": {
            "tags": [],
            "needs_background": "light"
          }
        }
      ]
    },
    {
      "cell_type": "code",
      "metadata": {
        "colab": {
          "base_uri": "https://localhost:8080/"
        },
        "id": "X7fkuc9q5l4u",
        "outputId": "58d494fd-9c63-4097-dbe4-55ae42cdbd5c"
      },
      "source": [
        "example_idx = 15\n",
        "\n",
        "src = vars(test_data.examples[example_idx])['src']\n",
        "trg = vars(test_data.examples[example_idx])['trg']\n",
        "\n",
        "print(f'src = {src}')\n",
        "print(f'trg = {trg}')\n"
      ],
      "execution_count": 62,
      "outputs": [
        {
          "output_type": "stream",
          "text": [
            "src = ['ein', 'mädchen', 'in', 'einem', 'jeanskleid', 'läuft', 'über', 'einen', 'erhöhten', 'schwebebalken', '.']\n",
            "trg = ['a', 'girl', 'in', 'a', 'jean', 'dress', 'is', 'walking', 'along', 'a', 'raised', 'balance', 'beam', '.']\n"
          ],
          "name": "stdout"
        }
      ]
    },
    {
      "cell_type": "code",
      "metadata": {
        "colab": {
          "base_uri": "https://localhost:8080/"
        },
        "id": "n8-VcvjU5sSP",
        "outputId": "01a65fc9-d47a-4566-b03c-426f2fe0c45e"
      },
      "source": [
        "translation, attention = translate_sentence(src, SRC, TRG, model, device)\n",
        "\n",
        "print(f'predicted trg = {translation}')"
      ],
      "execution_count": 63,
      "outputs": [
        {
          "output_type": "stream",
          "text": [
            "predicted trg = ['a', 'girl', 'in', 'a', '<unk>', 'and', 'black', 'outfit', 'is', 'walking', 'across', 'a', 'raised', 'beam', '.', '<eos>']\n"
          ],
          "name": "stdout"
        }
      ]
    },
    {
      "cell_type": "code",
      "metadata": {
        "colab": {
          "base_uri": "https://localhost:8080/",
          "height": 678
        },
        "id": "lZw-TFtI5un-",
        "outputId": "a4c0a268-5b20-4f13-d3b7-8c8ba8129e91"
      },
      "source": [
        "display_attention(src, translation, attention)"
      ],
      "execution_count": 64,
      "outputs": [
        {
          "output_type": "display_data",
          "data": {
            "image/png": "[encoded data removed]",
            "text/plain": [
              "<Figure size 720x720 with 1 Axes>"
            ]
          },
          "metadata": {
            "tags": [],
            "needs_background": "light"
          }
        }
      ]
    },
    {
      "cell_type": "code",
      "metadata": {
        "colab": {
          "base_uri": "https://localhost:8080/",
          "height": 304
        },
        "id": "ZRiGpq7O53H-",
        "outputId": "4c7d573b-e7e1-49c4-a14d-38fcf355fb9d"
      },
      "source": [
        ""
      ],
      "execution_count": 65,
      "outputs": [
        {
          "output_type": "error",
          "ename": "ModuleNotFoundError",
          "evalue": "ignored",
          "traceback": [
            "\u001b[0;31m---------------------------------------------------------------------------\u001b[0m",
            "\u001b[0;31mModuleNotFoundError\u001b[0m                       Traceback (most recent call last)",
            "\u001b[0;32m<ipython-input-65-97b405724eee>\u001b[0m in \u001b[0;36m<module>\u001b[0;34m()\u001b[0m\n\u001b[0;32m----> 1\u001b[0;31m \u001b[0;32mfrom\u001b[0m \u001b[0mtorchtext\u001b[0m\u001b[0;34m.\u001b[0m\u001b[0mdata\u001b[0m\u001b[0;34m.\u001b[0m\u001b[0mmetrics\u001b[0m \u001b[0;32mimport\u001b[0m \u001b[0mbleu_score\u001b[0m\u001b[0;34m\u001b[0m\u001b[0;34m\u001b[0m\u001b[0m\n\u001b[0m",
            "\u001b[0;31mModuleNotFoundError\u001b[0m: No module named 'torchtext.data.metrics'",
            "",
            "\u001b[0;31m---------------------------------------------------------------------------\u001b[0;32m\nNOTE: If your import is failing due to a missing package, you can\nmanually install dependencies using either !pip or !apt.\n\nTo view examples of installing some common dependencies, click the\n\"Open Examples\" button below.\n\u001b[0;31m---------------------------------------------------------------------------\u001b[0m\n"
          ]
        }
      ]
    }
  ]
}